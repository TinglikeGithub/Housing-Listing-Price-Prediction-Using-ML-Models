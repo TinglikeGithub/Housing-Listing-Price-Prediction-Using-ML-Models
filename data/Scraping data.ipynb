{
 "cells": [
  {
   "cell_type": "markdown",
   "id": "684d33a9-5b4a-4f7d-a730-754042080bee",
   "metadata": {
    "tags": []
   },
   "source": [
    "## Scraping data with Selenium"
   ]
  },
  {
   "cell_type": "code",
   "execution_count": 1,
   "id": "ab3e322d-40cb-4206-ab35-35e4b4cfa4e4",
   "metadata": {
    "tags": []
   },
   "outputs": [],
   "source": [
    "from selenium import webdriver\n",
    "from selenium.webdriver.chrome.service import Service\n",
    "from webdriver_manager.chrome import ChromeDriverManager\n",
    "from selenium.webdriver.support.ui import Select\n",
    "from selenium.webdriver.common.by import By\n",
    "import time\n",
    "import pathlib\n",
    "import pickle"
   ]
  },
  {
   "cell_type": "code",
   "execution_count": 2,
   "id": "0d26d7ad-3d6d-46c4-84b2-8aa37673723e",
   "metadata": {
    "tags": []
   },
   "outputs": [],
   "source": [
    "website= \"https://spainhomes.com/real-estate/malaga\""
   ]
  },
  {
   "cell_type": "code",
   "execution_count": 3,
   "id": "65d84cb4",
   "metadata": {
    "tags": []
   },
   "outputs": [],
   "source": [
    "driver = webdriver.Chrome(service=Service(ChromeDriverManager().install()))\n",
    "driver.maximize_window()\n",
    "driver.get(website)"
   ]
  },
  {
   "cell_type": "code",
   "execution_count": 4,
   "id": "7f2e2068-7b32-4d40-8a78-758a7c1a7c1a",
   "metadata": {
    "tags": []
   },
   "outputs": [],
   "source": [
    "#driver.quit()"
   ]
  },
  {
   "cell_type": "markdown",
   "id": "eeba0751",
   "metadata": {},
   "source": [
    "## Get info from one ad\n",
    "We want to get: <br>\n",
    "1. Title \n",
    "2. Description\n",
    "3. Number of bedrooms\n",
    "4. Number of bathrooms\n",
    "5. Price\n",
    "6. url for more details"
   ]
  },
  {
   "cell_type": "code",
   "execution_count": 14,
   "id": "6a91f6f0",
   "metadata": {},
   "outputs": [
    {
     "data": {
      "text/plain": [
       "'Modern Sea View Apartments with Spacious Terraces in Fuengirola'"
      ]
     },
     "execution_count": 14,
     "metadata": {},
     "output_type": "execute_result"
    }
   ],
   "source": [
    "title = ads[0].find_element(By.XPATH, './/span[@class=\"title\"]').text\n",
    "title"
   ]
  },
  {
   "cell_type": "code",
   "execution_count": 16,
   "id": "a42e6419",
   "metadata": {},
   "outputs": [
    {
     "data": {
      "text/plain": [
       "'The sea-view apartments with large terraces are situated in a prestigious community in Fuengirola, Costa del Sol. The gated and secured complex has amazing facilities and social and sports clubs.'"
      ]
     },
     "execution_count": 16,
     "metadata": {},
     "output_type": "execute_result"
    }
   ],
   "source": [
    "desc = ads[0].find_element(By.XPATH, './/span[@class=\"desc\"]').text\n",
    "desc"
   ]
  },
  {
   "cell_type": "code",
   "execution_count": 20,
   "id": "4448571b-68e5-4dff-9c8a-c716fbce5b35",
   "metadata": {
    "tags": []
   },
   "outputs": [
    {
     "data": {
      "text/plain": [
       "'FROM\\n€435.000'"
      ]
     },
     "execution_count": 20,
     "metadata": {},
     "output_type": "execute_result"
    }
   ],
   "source": [
    "price = ads[0].find_element(By.XPATH, './/span[@class=\"fiyat\"]').text\n",
    "price"
   ]
  },
  {
   "cell_type": "code",
   "execution_count": 21,
   "id": "c2c88aa9-7e88-46b8-860c-975af3f5e8b1",
   "metadata": {
    "tags": []
   },
   "outputs": [],
   "source": [
    "details = ads[0].find_element(By.XPATH, './/div[@class=\"other row between-xs middle-xs nowrap\"]')"
   ]
  },
  {
   "cell_type": "code",
   "execution_count": 22,
   "id": "fe5aa9bc-d182-478e-9e30-4dd8c0228756",
   "metadata": {
    "tags": []
   },
   "outputs": [
    {
     "data": {
      "text/plain": [
       "['FUENGIROLA - MÁLAGA', '1, 2, 3', '1, 2']"
      ]
     },
     "execution_count": 22,
     "metadata": {},
     "output_type": "execute_result"
    }
   ],
   "source": [
    "details = details.find_elements(By.XPATH, './/span')\n",
    "[el.text for el in details]"
   ]
  },
  {
   "cell_type": "code",
   "execution_count": 23,
   "id": "04d052b2-503e-4d65-aa8d-48dc078899eb",
   "metadata": {
    "tags": []
   },
   "outputs": [
    {
     "data": {
      "text/plain": [
       "<selenium.webdriver.remote.webelement.WebElement (session=\"a1d2efb8398e75ba82c4f5d0a9c8bae6\", element=\"2DD4CECFE3619B093A0C440721CBE7E8_element_347\")>"
      ]
     },
     "execution_count": 23,
     "metadata": {},
     "output_type": "execute_result"
    }
   ],
   "source": [
    "url = ads[0].find_element(By.XPATH, './/a[@class=\"main-emlak-link\"]')\n",
    "url"
   ]
  },
  {
   "cell_type": "code",
   "execution_count": 24,
   "id": "59c9e317-fab8-4f2d-af07-82edbe304d27",
   "metadata": {
    "tags": []
   },
   "outputs": [
    {
     "data": {
      "text/plain": [
       "'https://spainhomes.com/ad/agp-0732-new-build-apartments-with-sea-views-in-prime-area-of-fuengirola'"
      ]
     },
     "execution_count": 24,
     "metadata": {},
     "output_type": "execute_result"
    }
   ],
   "source": [
    "url.get_attribute(\"href\")"
   ]
  },
  {
   "cell_type": "markdown",
   "id": "0608938b",
   "metadata": {},
   "source": [
    "## Get info from all ads in one page"
   ]
  },
  {
   "cell_type": "code",
   "execution_count": 7,
   "id": "a4c4667f",
   "metadata": {
    "tags": []
   },
   "outputs": [],
   "source": [
    "def get_info(ad):\n",
    "    info = {}\n",
    "    info[\"title\"] = ad.find_element(By.XPATH, './/span[@class=\"title\"]').text\n",
    "    info[\"desc\"] = ad.find_element(By.XPATH, './/span[@class=\"desc\"]').text\n",
    "    info[\"price\"] = ad.find_element(By.XPATH, './/span[@class=\"fiyat\"]').text\n",
    "    details = ad.find_element(By.XPATH, './/div[@class=\"other row between-xs middle-xs nowrap\"]')\n",
    "    details = details.find_elements(By.XPATH, './/span')\n",
    "    info[\"details\"] = [el.text for el in details]\n",
    "    url = ad.find_element(By.XPATH, './/a[@class=\"main-emlak-link\"]')\n",
    "    info[\"url\"] = url.get_attribute(\"href\")\n",
    "    return info"
   ]
  },
  {
   "cell_type": "code",
   "execution_count": 9,
   "id": "acc8bfb6",
   "metadata": {
    "tags": []
   },
   "outputs": [],
   "source": [
    "page_1_info = [get_info(ad) for ad in ads]"
   ]
  },
  {
   "cell_type": "code",
   "execution_count": 22,
   "id": "ff466ea1",
   "metadata": {
    "tags": []
   },
   "outputs": [
    {
     "data": {
      "text/plain": [
       "[{'title': 'Modern Sea View Apartments with Spacious Terraces in Fuengirola',\n",
       "  'desc': 'The sea-view apartments with large terraces are situated in a prestigious community in Fuengirola, Costa del Sol. The gated and secured complex has amazing facilities and social and sports clubs.',\n",
       "  'price': 'FROM\\n€435.000',\n",
       "  'details': ['FUENGIROLA - MÁLAGA', '1, 2, 3', '1, 2'],\n",
       "  'url': 'https://spainhomes.com/ad/agp-0732-new-build-apartments-with-sea-views-in-prime-area-of-fuengirola'},\n",
       " {'title': 'Spacious Villa with Panoramic Sea Views in Benalmadena',\n",
       "  'desc': 'Villa with panoramic sea views is situated in Benalmadena, Costa del Sol. A spacious three-bedroom villa has a generous garden and a private swimming pool.',\n",
       "  'price': '€1.395.000',\n",
       "  'details': ['BENALMÁDENA - MÁLAGA', '3', '3'],\n",
       "  'url': 'https://spainhomes.com/ad/agp-0785-villa-with-excellent-location-and-sea-view-in-benalmadena'}]"
      ]
     },
     "execution_count": 22,
     "metadata": {},
     "output_type": "execute_result"
    }
   ],
   "source": [
    "page_1_info[:2] "
   ]
  },
  {
   "cell_type": "code",
   "execution_count": 14,
   "id": "fab82a2d-8e9b-484a-bb11-0e82d4606268",
   "metadata": {
    "tags": []
   },
   "outputs": [],
   "source": [
    "driver.quit()"
   ]
  },
  {
   "cell_type": "code",
   "execution_count": 12,
   "id": "704afa3e-cf47-465d-99d2-9956076fa898",
   "metadata": {
    "tags": []
   },
   "outputs": [],
   "source": [
    "# making a directory with results\n",
    "results_dir = pathlib.Path(\"results\")\n",
    "results_dir.mkdir(parents=True, exist_ok=True)"
   ]
  },
  {
   "cell_type": "code",
   "execution_count": 13,
   "id": "215f7355-e137-4ca5-b88d-b1873f5059c8",
   "metadata": {
    "tags": []
   },
   "outputs": [],
   "source": [
    "file = open(results_dir/'malaga_page_1.pickle', 'wb')\n",
    "pickle.dump(page_1_info , file)\n",
    "file.close()"
   ]
  },
  {
   "cell_type": "markdown",
   "id": "6a1ab7ed-dbf7-43a2-911d-d19092b48c7b",
   "metadata": {},
   "source": [
    "### Cliking on the cookie page"
   ]
  },
  {
   "cell_type": "code",
   "execution_count": 77,
   "id": "65a158fb-6cf2-4ee4-b79e-fe578cec451b",
   "metadata": {
    "tags": []
   },
   "outputs": [],
   "source": [
    "driver = webdriver.Chrome(service=Service(ChromeDriverManager().install()))\n",
    "driver.maximize_window()\n",
    "driver.get(website)"
   ]
  },
  {
   "cell_type": "code",
   "execution_count": 5,
   "id": "5dc1ed8a-ec22-4e3c-a0bf-97bd7ef88450",
   "metadata": {
    "tags": []
   },
   "outputs": [],
   "source": [
    "def click_accept_cookies(driver):\n",
    "    cookie_xpath = '//div[@class=\"cu-butons row middle-xs end-xs flex-wrap\"]/a[@class=\"yes\"]'\n",
    "    button = driver.find_element(By.XPATH, cookie_xpath)\n",
    "    button.click()"
   ]
  },
  {
   "cell_type": "code",
   "execution_count": 6,
   "id": "745f99cd-f314-47de-a23f-1fe3a9d9d442",
   "metadata": {
    "tags": []
   },
   "outputs": [],
   "source": [
    "click_accept_cookies(driver)"
   ]
  },
  {
   "cell_type": "markdown",
   "id": "ab8f185a",
   "metadata": {},
   "source": [
    "### getting other pages"
   ]
  },
  {
   "cell_type": "code",
   "execution_count": 32,
   "id": "1aec6228-c2f5-4eda-a0ab-b2cccf8031fe",
   "metadata": {
    "tags": []
   },
   "outputs": [],
   "source": [
    "def dump_page(i, page_info, results_dir=results_dir):\n",
    "    filename = results_dir/'malaga_page_{}.pickle'.format(str(i))\n",
    "    file = open(filename, 'wb')\n",
    "    pickle.dump(page_info , file)\n",
    "    file.close()\n",
    "    print(filename)"
   ]
  },
  {
   "cell_type": "code",
   "execution_count": 24,
   "id": "0f74177a",
   "metadata": {
    "tags": []
   },
   "outputs": [],
   "source": [
    "def get_url(i):\n",
    "    url = \"https://spainhomes.com/real-estate/malaga?page={}.htm\".format(i)\n",
    "    return url"
   ]
  },
  {
   "cell_type": "code",
   "execution_count": 25,
   "id": "024faf01",
   "metadata": {
    "tags": []
   },
   "outputs": [
    {
     "data": {
      "text/plain": [
       "'https://spainhomes.com/real-estate/malaga?page=2.htm'"
      ]
     },
     "execution_count": 25,
     "metadata": {},
     "output_type": "execute_result"
    }
   ],
   "source": [
    "i = 2\n",
    "website = get_url(i)\n",
    "website"
   ]
  },
  {
   "cell_type": "code",
   "execution_count": 26,
   "id": "65b4c25e",
   "metadata": {
    "tags": []
   },
   "outputs": [],
   "source": [
    "driver = webdriver.Chrome(service=Service(ChromeDriverManager().install()))\n",
    "driver.maximize_window()\n",
    "driver.get(website)\n",
    "time.sleep(3)"
   ]
  },
  {
   "cell_type": "code",
   "execution_count": 27,
   "id": "f0efd0f2-7cdb-4552-9236-135337cee485",
   "metadata": {
    "tags": []
   },
   "outputs": [],
   "source": [
    "click_accept_cookies(driver)"
   ]
  },
  {
   "cell_type": "code",
   "execution_count": 28,
   "id": "634d9277-0657-45c1-80b4-152f55b25db3",
   "metadata": {
    "tags": []
   },
   "outputs": [
    {
     "data": {
      "text/plain": [
       "12"
      ]
     },
     "execution_count": 28,
     "metadata": {},
     "output_type": "execute_result"
    }
   ],
   "source": [
    "ads = driver.find_elements(By.XPATH,'//div[@class=\"right\"]')\n",
    "len(ads)"
   ]
  },
  {
   "cell_type": "code",
   "execution_count": 29,
   "id": "5235cd9d-e489-4f24-b074-fa872c166d95",
   "metadata": {
    "tags": []
   },
   "outputs": [],
   "source": [
    "page_i_info = [get_info(ad) for ad in ads]"
   ]
  },
  {
   "cell_type": "code",
   "execution_count": 33,
   "id": "6882892f",
   "metadata": {
    "tags": []
   },
   "outputs": [
    {
     "name": "stdout",
     "output_type": "stream",
     "text": [
      "results/malaga_page_2.pickle\n"
     ]
    }
   ],
   "source": [
    "dump_page(i, page_i_info)"
   ]
  },
  {
   "cell_type": "code",
   "execution_count": 40,
   "id": "2b89b60f",
   "metadata": {
    "tags": []
   },
   "outputs": [],
   "source": [
    "driver.quit()"
   ]
  },
  {
   "cell_type": "markdown",
   "id": "899d40d4",
   "metadata": {},
   "source": []
  }
 ],
 "metadata": {
  "kernelspec": {
   "display_name": "Python 3 (ipykernel)",
   "language": "python",
   "name": "python3"
  },
  "language_info": {
   "codemirror_mode": {
    "name": "ipython",
    "version": 3
   },
   "file_extension": ".py",
   "mimetype": "text/x-python",
   "name": "python",
   "nbconvert_exporter": "python",
   "pygments_lexer": "ipython3",
   "version": "3.11.7"
  }
 },
 "nbformat": 4,
 "nbformat_minor": 5
}
