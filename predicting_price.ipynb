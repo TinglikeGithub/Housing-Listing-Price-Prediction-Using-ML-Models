{
 "cells": [
  {
   "cell_type": "markdown",
   "id": "7d5ca5c3",
   "metadata": {},
   "source": [
    "# Project Description\n",
    "\n",
    "The project aims to predict housing listing prices using data gathered from a housing sales website, which includes details about different house features. \n",
    "\n",
    "The process begins with feature engineering to extract both numerical and categorical data. Next, text data is embedded using an LLM model from Hugging Face. Finally, the datasets are merged, and XGBoost and Random Forest models are trained to predict listing prices. The XGBoost model demonstrates superior performance compared to the Random Forest model."
   ]
  },
  {
   "cell_type": "markdown",
   "id": "4eb1bb9c",
   "metadata": {},
   "source": [
    "Importing Libraries"
   ]
  },
  {
   "cell_type": "code",
   "execution_count": 6,
   "id": "e9ab3fd7",
   "metadata": {},
   "outputs": [],
   "source": [
    "import numpy as np\n",
    "import pandas as pd\n",
    "import pickle\n",
    "\n",
    "import torch \n",
    "import torch.autograd as autograd \n",
    "import torch.nn as nn \n",
    "import torch.nn.functional as F\n",
    "import torch.optim as optim\n",
    "import numpy as np"
   ]
  },
  {
   "cell_type": "markdown",
   "id": "5a3eeb43",
   "metadata": {},
   "source": [
    "# Data Cleaning and Feature Engineering"
   ]
  },
  {
   "cell_type": "code",
   "execution_count": 7,
   "id": "9f5f1e27",
   "metadata": {},
   "outputs": [],
   "source": [
    "with open('data/train.pickle', 'rb') as f:\n",
    "    dataset = pickle.load(f)\n",
    "with open(\"data/test.pickle\",\"rb\") as f:\n",
    "    test_data = pickle.load(f)"
   ]
  },
  {
   "cell_type": "code",
   "execution_count": 8,
   "id": "002390ee",
   "metadata": {},
   "outputs": [
    {
     "data": {
      "text/plain": [
       "{'price': '320.000 €',\n",
       " 'title': 'Piso Tallers. Piso con 2 habitaciones con ascensor',\n",
       " 'loc_string': 'Barcelona - Sant Antoni',\n",
       " 'loc': None,\n",
       " 'features': ['85 m2', '2 hab.', '1 baño', '3.647 €/m2'],\n",
       " 'type': 'FLAT',\n",
       " 'subtype': 'FLAT',\n",
       " 'selltype': 'SECOND_HAND',\n",
       " 'desc': 'Piso en última planta a reformar en calle Tallers junto a plaza Universitat.\\n\\nLa propiedad ofrece muchas posibilidades para personalizarla según sus necesidades, ya que todas las paredes son tabiques.\\n\\nLa distribución actual cuenta con salón comedor amplio, cocina, dos habitaciones dobles exteriores, dos habitaciones interiores, baño y despensa/trastero. Balcones a ambos lados de la vivienda, uno a patio de manzana y los otros dos a carrer Tallers. Suelos originales.\\n\\nFinca del 1882 con ascensor.\\n\\nCalle peatonal con encanto en el centro de Barcelona, rodeada de todo tipo de comercios y servicios. Buenas comunicaciones mediante transportes publicos, metro, autobuses y FFCC.'}"
      ]
     },
     "execution_count": 8,
     "metadata": {},
     "output_type": "execute_result"
    }
   ],
   "source": [
    "dataset[0]"
   ]
  },
  {
   "cell_type": "code",
   "execution_count": 11,
   "id": "3a7abd02",
   "metadata": {},
   "outputs": [
    {
     "data": {
      "text/plain": [
       "array(['Barcelona - Sant Antoni', 'Barcelona - Dreta de l´Eixample',\n",
       "       'Barcelona - Sagrada Família', 'Barcelona - Fort Pienc',\n",
       "       'Barcelona - L´Antiga Esquerra de l´Eixample',\n",
       "       'Barcelona - La Nova Esquerra de l´Eixample',\n",
       "       'Barcelona - La Nova Esquerra de l´Eixample\\nVer mapa',\n",
       "       'Barcelona - Dreta de l´Eixample\\nVer mapa',\n",
       "       'Barcelona - Poblenou',\n",
       "       'Barcelona - El Parc i la Llacuna del Poblenou',\n",
       "       'Barcelona - La Vila Olímpica del Poblenou',\n",
       "       'Barcelona - Poblenou\\nVer mapa',\n",
       "       'Barcelona - El Camp de l´Arpa del Clot',\n",
       "       'Barcelona - Besòs - Maresme',\n",
       "       'Barcelona - Diagonal Mar i el Front Marítim del Poblenou',\n",
       "       'Barcelona - Provençals del Poblenou', 'Barcelona - El Clot',\n",
       "       'Barcelona - Navas'], dtype=object)"
      ]
     },
     "execution_count": 11,
     "metadata": {},
     "output_type": "execute_result"
    }
   ],
   "source": [
    "# look at locations\n",
    "l = [item.get('loc_string') for item in dataset]\n",
    "type = [item.get('type') for item in dataset]\n",
    "selltype = [item.get('selltype') for item in dataset]\n",
    "data_dict = {'location': l, 'type': type, 'selltype':selltype}\n",
    "df = pd.DataFrame(data_dict)\n",
    "df['location'].unique()"
   ]
  },
  {
   "cell_type": "code",
   "execution_count": 12,
   "id": "6d71febd",
   "metadata": {},
   "outputs": [
    {
     "data": {
      "text/plain": [
       "(array(['FLAT', 'STUDIO', 'GROUND_FLOOR', 'PENTHOUSE', 'APARTMENT', 'LOFT',\n",
       "        'DUPLEX'], dtype=object),\n",
       " array(['SECOND_HAND'], dtype=object))"
      ]
     },
     "execution_count": 12,
     "metadata": {},
     "output_type": "execute_result"
    }
   ],
   "source": [
    "df['type'].unique(), df['selltype'].unique()\n",
    "# given that \"selltype\" only has one value, there's no necessity to incorporate it as a feature."
   ]
  },
  {
   "cell_type": "code",
   "execution_count": 5,
   "id": "f6b81742",
   "metadata": {},
   "outputs": [],
   "source": [
    "def process_data(data, include_price=True):\n",
    "    location = []\n",
    "    price = []\n",
    "    size = []  # Size in m2\n",
    "    bedrooms = []  # Number of bedrooms\n",
    "    bathrooms = []  # Number of bathrooms\n",
    "    types = []\n",
    "\n",
    "    # Iterate through each entry in the data\n",
    "    for diction in data:\n",
    "        location.append(diction['loc_string'].replace('Barcelona - ','').replace('\\nVer mapa', ''))\n",
    "        if include_price:\n",
    "            price.append(float(diction['price'].replace('€', '').replace('.', ''))/1000)\n",
    "        size.append(float(diction['features'][0].replace('m2', '')))\n",
    "\n",
    "        # Initialize default values for features\n",
    "        num_bedrooms = 0\n",
    "        num_bathrooms = 0\n",
    "\n",
    "        # Extract features\n",
    "        for feature in diction['features'][1:]:\n",
    "            if 'hab.' in feature:\n",
    "                num_bedrooms = int(feature.replace('hab.', ''))\n",
    "            elif 'baño' in feature:\n",
    "                num_bathrooms = int(feature.split()[0])\n",
    "\n",
    "        # Append processed features\n",
    "        bedrooms.append(num_bedrooms)\n",
    "        bathrooms.append(num_bathrooms)\n",
    "        types.append(diction['type'])\n",
    "\n",
    "    # Create a DataFrame from the lists\n",
    "    data_dict = {\n",
    "        'Location': location,\n",
    "        'Size': size,\n",
    "        'Bedrooms': bedrooms,\n",
    "        'Bathrooms': bathrooms,\n",
    "        'Type': types,\n",
    "    }\n",
    "    if include_price:\n",
    "        data_dict['Price'] = price\n",
    "\n",
    "    df = pd.DataFrame(data_dict)\n",
    "\n",
    "    return df"
   ]
  },
  {
   "cell_type": "code",
   "execution_count": 14,
   "id": "45f0588c",
   "metadata": {},
   "outputs": [],
   "source": [
    "train_clean = process_data(dataset)\n",
    "test_clean = process_data(test_data, include_price=False)"
   ]
  },
  {
   "cell_type": "code",
   "execution_count": 15,
   "id": "cab85e36",
   "metadata": {},
   "outputs": [
    {
     "data": {
      "text/html": [
       "<div>\n",
       "<style scoped>\n",
       "    .dataframe tbody tr th:only-of-type {\n",
       "        vertical-align: middle;\n",
       "    }\n",
       "\n",
       "    .dataframe tbody tr th {\n",
       "        vertical-align: top;\n",
       "    }\n",
       "\n",
       "    .dataframe thead th {\n",
       "        text-align: right;\n",
       "    }\n",
       "</style>\n",
       "<table border=\"1\" class=\"dataframe\">\n",
       "  <thead>\n",
       "    <tr style=\"text-align: right;\">\n",
       "      <th></th>\n",
       "      <th>Location</th>\n",
       "      <th>Size</th>\n",
       "      <th>Bedrooms</th>\n",
       "      <th>Bathrooms</th>\n",
       "      <th>Type</th>\n",
       "      <th>Price</th>\n",
       "    </tr>\n",
       "  </thead>\n",
       "  <tbody>\n",
       "    <tr>\n",
       "      <th>0</th>\n",
       "      <td>Sant Antoni</td>\n",
       "      <td>85.0</td>\n",
       "      <td>2</td>\n",
       "      <td>1</td>\n",
       "      <td>FLAT</td>\n",
       "      <td>320.0</td>\n",
       "    </tr>\n",
       "    <tr>\n",
       "      <th>1</th>\n",
       "      <td>Dreta de l´Eixample</td>\n",
       "      <td>65.0</td>\n",
       "      <td>2</td>\n",
       "      <td>1</td>\n",
       "      <td>FLAT</td>\n",
       "      <td>335.0</td>\n",
       "    </tr>\n",
       "    <tr>\n",
       "      <th>2</th>\n",
       "      <td>Dreta de l´Eixample</td>\n",
       "      <td>77.0</td>\n",
       "      <td>2</td>\n",
       "      <td>1</td>\n",
       "      <td>FLAT</td>\n",
       "      <td>330.0</td>\n",
       "    </tr>\n",
       "    <tr>\n",
       "      <th>3</th>\n",
       "      <td>Sant Antoni</td>\n",
       "      <td>96.0</td>\n",
       "      <td>3</td>\n",
       "      <td>2</td>\n",
       "      <td>FLAT</td>\n",
       "      <td>435.0</td>\n",
       "    </tr>\n",
       "    <tr>\n",
       "      <th>4</th>\n",
       "      <td>Sagrada Família</td>\n",
       "      <td>84.0</td>\n",
       "      <td>2</td>\n",
       "      <td>1</td>\n",
       "      <td>FLAT</td>\n",
       "      <td>410.0</td>\n",
       "    </tr>\n",
       "  </tbody>\n",
       "</table>\n",
       "</div>"
      ],
      "text/plain": [
       "              Location  Size  Bedrooms  Bathrooms  Type  Price\n",
       "0          Sant Antoni  85.0         2          1  FLAT  320.0\n",
       "1  Dreta de l´Eixample  65.0         2          1  FLAT  335.0\n",
       "2  Dreta de l´Eixample  77.0         2          1  FLAT  330.0\n",
       "3          Sant Antoni  96.0         3          2  FLAT  435.0\n",
       "4      Sagrada Família  84.0         2          1  FLAT  410.0"
      ]
     },
     "execution_count": 15,
     "metadata": {},
     "output_type": "execute_result"
    }
   ],
   "source": [
    "train_clean.head()"
   ]
  },
  {
   "cell_type": "markdown",
   "id": "29bf9281",
   "metadata": {},
   "source": [
    "# One-Hot Encoding of Categorical Features"
   ]
  },
  {
   "cell_type": "code",
   "execution_count": 16,
   "id": "1ce97a81",
   "metadata": {},
   "outputs": [
    {
     "data": {
      "text/html": [
       "<div>\n",
       "<style scoped>\n",
       "    .dataframe tbody tr th:only-of-type {\n",
       "        vertical-align: middle;\n",
       "    }\n",
       "\n",
       "    .dataframe tbody tr th {\n",
       "        vertical-align: top;\n",
       "    }\n",
       "\n",
       "    .dataframe thead th {\n",
       "        text-align: right;\n",
       "    }\n",
       "</style>\n",
       "<table border=\"1\" class=\"dataframe\">\n",
       "  <thead>\n",
       "    <tr style=\"text-align: right;\">\n",
       "      <th></th>\n",
       "      <th>Size</th>\n",
       "      <th>Bedrooms</th>\n",
       "      <th>Bathrooms</th>\n",
       "      <th>Price</th>\n",
       "      <th>Location_Diagonal Mar i el Front Marítim del Poblenou</th>\n",
       "      <th>Location_Dreta de l´Eixample</th>\n",
       "      <th>Location_El Camp de l´Arpa del Clot</th>\n",
       "      <th>Location_El Clot</th>\n",
       "      <th>Location_El Parc i la Llacuna del Poblenou</th>\n",
       "      <th>Location_Fort Pienc</th>\n",
       "      <th>...</th>\n",
       "      <th>Location_Poblenou</th>\n",
       "      <th>Location_Provençals del Poblenou</th>\n",
       "      <th>Location_Sagrada Família</th>\n",
       "      <th>Location_Sant Antoni</th>\n",
       "      <th>Type_DUPLEX</th>\n",
       "      <th>Type_FLAT</th>\n",
       "      <th>Type_GROUND_FLOOR</th>\n",
       "      <th>Type_LOFT</th>\n",
       "      <th>Type_PENTHOUSE</th>\n",
       "      <th>Type_STUDIO</th>\n",
       "    </tr>\n",
       "  </thead>\n",
       "  <tbody>\n",
       "    <tr>\n",
       "      <th>0</th>\n",
       "      <td>85.0</td>\n",
       "      <td>2</td>\n",
       "      <td>1</td>\n",
       "      <td>320.0</td>\n",
       "      <td>False</td>\n",
       "      <td>False</td>\n",
       "      <td>False</td>\n",
       "      <td>False</td>\n",
       "      <td>False</td>\n",
       "      <td>False</td>\n",
       "      <td>...</td>\n",
       "      <td>False</td>\n",
       "      <td>False</td>\n",
       "      <td>False</td>\n",
       "      <td>True</td>\n",
       "      <td>False</td>\n",
       "      <td>True</td>\n",
       "      <td>False</td>\n",
       "      <td>False</td>\n",
       "      <td>False</td>\n",
       "      <td>False</td>\n",
       "    </tr>\n",
       "    <tr>\n",
       "      <th>1</th>\n",
       "      <td>65.0</td>\n",
       "      <td>2</td>\n",
       "      <td>1</td>\n",
       "      <td>335.0</td>\n",
       "      <td>False</td>\n",
       "      <td>True</td>\n",
       "      <td>False</td>\n",
       "      <td>False</td>\n",
       "      <td>False</td>\n",
       "      <td>False</td>\n",
       "      <td>...</td>\n",
       "      <td>False</td>\n",
       "      <td>False</td>\n",
       "      <td>False</td>\n",
       "      <td>False</td>\n",
       "      <td>False</td>\n",
       "      <td>True</td>\n",
       "      <td>False</td>\n",
       "      <td>False</td>\n",
       "      <td>False</td>\n",
       "      <td>False</td>\n",
       "    </tr>\n",
       "    <tr>\n",
       "      <th>2</th>\n",
       "      <td>77.0</td>\n",
       "      <td>2</td>\n",
       "      <td>1</td>\n",
       "      <td>330.0</td>\n",
       "      <td>False</td>\n",
       "      <td>True</td>\n",
       "      <td>False</td>\n",
       "      <td>False</td>\n",
       "      <td>False</td>\n",
       "      <td>False</td>\n",
       "      <td>...</td>\n",
       "      <td>False</td>\n",
       "      <td>False</td>\n",
       "      <td>False</td>\n",
       "      <td>False</td>\n",
       "      <td>False</td>\n",
       "      <td>True</td>\n",
       "      <td>False</td>\n",
       "      <td>False</td>\n",
       "      <td>False</td>\n",
       "      <td>False</td>\n",
       "    </tr>\n",
       "    <tr>\n",
       "      <th>3</th>\n",
       "      <td>96.0</td>\n",
       "      <td>3</td>\n",
       "      <td>2</td>\n",
       "      <td>435.0</td>\n",
       "      <td>False</td>\n",
       "      <td>False</td>\n",
       "      <td>False</td>\n",
       "      <td>False</td>\n",
       "      <td>False</td>\n",
       "      <td>False</td>\n",
       "      <td>...</td>\n",
       "      <td>False</td>\n",
       "      <td>False</td>\n",
       "      <td>False</td>\n",
       "      <td>True</td>\n",
       "      <td>False</td>\n",
       "      <td>True</td>\n",
       "      <td>False</td>\n",
       "      <td>False</td>\n",
       "      <td>False</td>\n",
       "      <td>False</td>\n",
       "    </tr>\n",
       "    <tr>\n",
       "      <th>4</th>\n",
       "      <td>84.0</td>\n",
       "      <td>2</td>\n",
       "      <td>1</td>\n",
       "      <td>410.0</td>\n",
       "      <td>False</td>\n",
       "      <td>False</td>\n",
       "      <td>False</td>\n",
       "      <td>False</td>\n",
       "      <td>False</td>\n",
       "      <td>False</td>\n",
       "      <td>...</td>\n",
       "      <td>False</td>\n",
       "      <td>False</td>\n",
       "      <td>True</td>\n",
       "      <td>False</td>\n",
       "      <td>False</td>\n",
       "      <td>True</td>\n",
       "      <td>False</td>\n",
       "      <td>False</td>\n",
       "      <td>False</td>\n",
       "      <td>False</td>\n",
       "    </tr>\n",
       "  </tbody>\n",
       "</table>\n",
       "<p>5 rows × 24 columns</p>\n",
       "</div>"
      ],
      "text/plain": [
       "   Size  Bedrooms  Bathrooms  Price  \\\n",
       "0  85.0         2          1  320.0   \n",
       "1  65.0         2          1  335.0   \n",
       "2  77.0         2          1  330.0   \n",
       "3  96.0         3          2  435.0   \n",
       "4  84.0         2          1  410.0   \n",
       "\n",
       "   Location_Diagonal Mar i el Front Marítim del Poblenou  \\\n",
       "0                                              False       \n",
       "1                                              False       \n",
       "2                                              False       \n",
       "3                                              False       \n",
       "4                                              False       \n",
       "\n",
       "   Location_Dreta de l´Eixample  Location_El Camp de l´Arpa del Clot  \\\n",
       "0                         False                                False   \n",
       "1                          True                                False   \n",
       "2                          True                                False   \n",
       "3                         False                                False   \n",
       "4                         False                                False   \n",
       "\n",
       "   Location_El Clot  Location_El Parc i la Llacuna del Poblenou  \\\n",
       "0             False                                       False   \n",
       "1             False                                       False   \n",
       "2             False                                       False   \n",
       "3             False                                       False   \n",
       "4             False                                       False   \n",
       "\n",
       "   Location_Fort Pienc  ...  Location_Poblenou  \\\n",
       "0                False  ...              False   \n",
       "1                False  ...              False   \n",
       "2                False  ...              False   \n",
       "3                False  ...              False   \n",
       "4                False  ...              False   \n",
       "\n",
       "   Location_Provençals del Poblenou  Location_Sagrada Família  \\\n",
       "0                             False                     False   \n",
       "1                             False                     False   \n",
       "2                             False                     False   \n",
       "3                             False                     False   \n",
       "4                             False                      True   \n",
       "\n",
       "   Location_Sant Antoni  Type_DUPLEX  Type_FLAT  Type_GROUND_FLOOR  Type_LOFT  \\\n",
       "0                  True        False       True              False      False   \n",
       "1                 False        False       True              False      False   \n",
       "2                 False        False       True              False      False   \n",
       "3                  True        False       True              False      False   \n",
       "4                 False        False       True              False      False   \n",
       "\n",
       "   Type_PENTHOUSE  Type_STUDIO  \n",
       "0           False        False  \n",
       "1           False        False  \n",
       "2           False        False  \n",
       "3           False        False  \n",
       "4           False        False  \n",
       "\n",
       "[5 rows x 24 columns]"
      ]
     },
     "execution_count": 16,
     "metadata": {},
     "output_type": "execute_result"
    }
   ],
   "source": [
    "train_encoded = pd.get_dummies(train_clean, columns=['Location', 'Type'], drop_first=True)\n",
    "train_encoded.head()"
   ]
  },
  {
   "cell_type": "markdown",
   "id": "803a50b7",
   "metadata": {},
   "source": [
    "# Extract Text Features: Title and Description"
   ]
  },
  {
   "cell_type": "code",
   "execution_count": 17,
   "id": "c72514c8",
   "metadata": {},
   "outputs": [],
   "source": [
    "def get_title_desc(data):\n",
    "    title = []\n",
    "    desc = [] # description\n",
    "    for diction in data:\n",
    "        desc.append(diction['desc'])\n",
    "        title.append(diction.get('title', '')) \n",
    "    return title, desc"
   ]
  },
  {
   "cell_type": "code",
   "execution_count": 18,
   "id": "0cdfb6d3",
   "metadata": {},
   "outputs": [],
   "source": [
    "title, desc = get_title_desc(dataset)\n",
    "title_test, desc_test = get_title_desc(test_data)"
   ]
  },
  {
   "cell_type": "code",
   "execution_count": 19,
   "id": "bd6b1fc2",
   "metadata": {},
   "outputs": [
    {
     "data": {
      "text/plain": [
       "('Piso Tallers. Piso con 2 habitaciones con ascensor',\n",
       " 'Piso en última planta a reformar en calle Tallers junto a plaza Universitat.\\n\\nLa propiedad ofrece muchas posibilidades para personalizarla según sus necesidades, ya que todas las paredes son tabiques.\\n\\nLa distribución actual cuenta con salón comedor amplio, cocina, dos habitaciones dobles exteriores, dos habitaciones interiores, baño y despensa/trastero. Balcones a ambos lados de la vivienda, uno a patio de manzana y los otros dos a carrer Tallers. Suelos originales.\\n\\nFinca del 1882 con ascensor.\\n\\nCalle peatonal con encanto en el centro de Barcelona, rodeada de todo tipo de comercios y servicios. Buenas comunicaciones mediante transportes publicos, metro, autobuses y FFCC.')"
      ]
     },
     "execution_count": 19,
     "metadata": {},
     "output_type": "execute_result"
    }
   ],
   "source": [
    "title[0], desc[0]"
   ]
  },
  {
   "cell_type": "markdown",
   "id": "fa7ffc29",
   "metadata": {},
   "source": [
    "# Embedding Title and Description with Flan-T5"
   ]
  },
  {
   "cell_type": "code",
   "execution_count": 20,
   "id": "0da64b11",
   "metadata": {},
   "outputs": [],
   "source": [
    "from transformers import T5Tokenizer, T5EncoderModel"
   ]
  },
  {
   "cell_type": "code",
   "execution_count": 21,
   "id": "8ad3d221",
   "metadata": {},
   "outputs": [
    {
     "name": "stderr",
     "output_type": "stream",
     "text": [
      "Special tokens have been added in the vocabulary, make sure the associated word embeddings are fine-tuned or trained.\n"
     ]
    }
   ],
   "source": [
    "model_name = \"google/flan-t5-small\"\n",
    "model = T5EncoderModel.from_pretrained(model_name)\n",
    "tokenizer = T5Tokenizer.from_pretrained(model_name)"
   ]
  },
  {
   "cell_type": "code",
   "execution_count": 22,
   "id": "9954ffea",
   "metadata": {},
   "outputs": [],
   "source": [
    "# extracting a fixed-size vector representation of the input text\n",
    "def get_sentence_encoding(text, model=model):\n",
    "    input_ids = tokenizer(text, truncation=True, return_tensors=\"pt\").input_ids\n",
    "    with torch.no_grad():\n",
    "        outputs = model(input_ids, return_dict=True)\n",
    "    last_hidden_states = outputs.last_hidden_state\n",
    "    sentence_embedding = torch.mean(last_hidden_states, dim=1)\n",
    "    return sentence_embedding[0].numpy()"
   ]
  },
  {
   "cell_type": "code",
   "execution_count": 23,
   "id": "381ccfd8",
   "metadata": {},
   "outputs": [
    {
     "data": {
      "text/plain": [
       "(866, 512)"
      ]
     },
     "execution_count": 23,
     "metadata": {},
     "output_type": "execute_result"
    }
   ],
   "source": [
    "title_embedded = np.vstack([get_sentence_encoding(x.strip()) for x in title])\n",
    "title_embedded.shape"
   ]
  },
  {
   "cell_type": "code",
   "execution_count": 24,
   "id": "c7cc742c",
   "metadata": {},
   "outputs": [
    {
     "data": {
      "text/plain": [
       "(866, 512)"
      ]
     },
     "execution_count": 24,
     "metadata": {},
     "output_type": "execute_result"
    }
   ],
   "source": [
    "desc_embedded = np.vstack([get_sentence_encoding(x.strip()) for x in desc])\n",
    "desc_embedded.shape"
   ]
  },
  {
   "cell_type": "code",
   "execution_count": 25,
   "id": "133dd331",
   "metadata": {},
   "outputs": [],
   "source": [
    "# convert to DataFrame\n",
    "df_desc_embedded = pd.DataFrame(desc_embedded)\n",
    "num_cols = title_embedded.shape[1]  \n",
    "col_names = [f\"t{i}\" for i in range(1, num_cols + 1)]\n",
    "df_title_embedded = pd.DataFrame(title_embedded, columns=col_names)"
   ]
  },
  {
   "cell_type": "markdown",
   "id": "21c3a35a",
   "metadata": {},
   "source": [
    "# Combine Featrues"
   ]
  },
  {
   "cell_type": "code",
   "execution_count": 26,
   "id": "14ca7b4a",
   "metadata": {},
   "outputs": [
    {
     "data": {
      "text/plain": [
       "(866, 536)"
      ]
     },
     "execution_count": 26,
     "metadata": {},
     "output_type": "execute_result"
    }
   ],
   "source": [
    "train = pd.concat([df_desc_embedded, train_encoded], axis=1)\n",
    "train.shape"
   ]
  },
  {
   "cell_type": "markdown",
   "id": "1f6aa667",
   "metadata": {},
   "source": [
    "# XGBoost Model"
   ]
  },
  {
   "cell_type": "code",
   "execution_count": 27,
   "id": "de7e87ea",
   "metadata": {},
   "outputs": [],
   "source": [
    "import xgboost as xgb\n",
    "from sklearn.metrics import mean_squared_error, r2_score"
   ]
  },
  {
   "cell_type": "code",
   "execution_count": 28,
   "id": "99a25e5c",
   "metadata": {},
   "outputs": [
    {
     "data": {
      "text/plain": [
       "(866, 535)"
      ]
     },
     "execution_count": 28,
     "metadata": {},
     "output_type": "execute_result"
    }
   ],
   "source": [
    "y = train['Price']\n",
    "X = train.drop(['Price'], axis=1)\n",
    "X.shape"
   ]
  },
  {
   "cell_type": "code",
   "execution_count": 29,
   "id": "dba791bc",
   "metadata": {},
   "outputs": [
    {
     "data": {
      "text/plain": [
       "((866, 535), (692, 535))"
      ]
     },
     "execution_count": 29,
     "metadata": {},
     "output_type": "execute_result"
    }
   ],
   "source": [
    "from sklearn.model_selection import train_test_split\n",
    "X_train, X_val, y_train, y_val = train_test_split(X, y, test_size=0.2, random_state=42)\n",
    "X.shape, X_train.shape"
   ]
  },
  {
   "cell_type": "code",
   "execution_count": 30,
   "id": "05c9468c",
   "metadata": {},
   "outputs": [
    {
     "data": {
      "text/html": [
       "<div>\n",
       "<style scoped>\n",
       "    .dataframe tbody tr th:only-of-type {\n",
       "        vertical-align: middle;\n",
       "    }\n",
       "\n",
       "    .dataframe tbody tr th {\n",
       "        vertical-align: top;\n",
       "    }\n",
       "\n",
       "    .dataframe thead th {\n",
       "        text-align: right;\n",
       "    }\n",
       "</style>\n",
       "<table border=\"1\" class=\"dataframe\">\n",
       "  <thead>\n",
       "    <tr style=\"text-align: right;\">\n",
       "      <th></th>\n",
       "      <th>0</th>\n",
       "      <th>1</th>\n",
       "      <th>2</th>\n",
       "      <th>3</th>\n",
       "      <th>4</th>\n",
       "      <th>5</th>\n",
       "      <th>6</th>\n",
       "      <th>7</th>\n",
       "      <th>8</th>\n",
       "      <th>9</th>\n",
       "      <th>...</th>\n",
       "      <th>Location_Poblenou</th>\n",
       "      <th>Location_Provençals del Poblenou</th>\n",
       "      <th>Location_Sagrada Família</th>\n",
       "      <th>Location_Sant Antoni</th>\n",
       "      <th>Type_DUPLEX</th>\n",
       "      <th>Type_FLAT</th>\n",
       "      <th>Type_GROUND_FLOOR</th>\n",
       "      <th>Type_LOFT</th>\n",
       "      <th>Type_PENTHOUSE</th>\n",
       "      <th>Type_STUDIO</th>\n",
       "    </tr>\n",
       "  </thead>\n",
       "  <tbody>\n",
       "    <tr>\n",
       "      <th>818</th>\n",
       "      <td>-0.071154</td>\n",
       "      <td>-0.030158</td>\n",
       "      <td>0.019559</td>\n",
       "      <td>-0.010458</td>\n",
       "      <td>0.066550</td>\n",
       "      <td>0.082316</td>\n",
       "      <td>0.001007</td>\n",
       "      <td>-0.132238</td>\n",
       "      <td>0.028664</td>\n",
       "      <td>-0.065480</td>\n",
       "      <td>...</td>\n",
       "      <td>False</td>\n",
       "      <td>False</td>\n",
       "      <td>False</td>\n",
       "      <td>False</td>\n",
       "      <td>False</td>\n",
       "      <td>True</td>\n",
       "      <td>False</td>\n",
       "      <td>False</td>\n",
       "      <td>False</td>\n",
       "      <td>False</td>\n",
       "    </tr>\n",
       "    <tr>\n",
       "      <th>558</th>\n",
       "      <td>-0.036223</td>\n",
       "      <td>-0.040941</td>\n",
       "      <td>0.029683</td>\n",
       "      <td>-0.019874</td>\n",
       "      <td>0.040049</td>\n",
       "      <td>0.036451</td>\n",
       "      <td>0.001065</td>\n",
       "      <td>-0.085019</td>\n",
       "      <td>0.009831</td>\n",
       "      <td>-0.058453</td>\n",
       "      <td>...</td>\n",
       "      <td>False</td>\n",
       "      <td>False</td>\n",
       "      <td>False</td>\n",
       "      <td>False</td>\n",
       "      <td>False</td>\n",
       "      <td>True</td>\n",
       "      <td>False</td>\n",
       "      <td>False</td>\n",
       "      <td>False</td>\n",
       "      <td>False</td>\n",
       "    </tr>\n",
       "  </tbody>\n",
       "</table>\n",
       "<p>2 rows × 535 columns</p>\n",
       "</div>"
      ],
      "text/plain": [
       "            0         1         2         3         4         5         6  \\\n",
       "818 -0.071154 -0.030158  0.019559 -0.010458  0.066550  0.082316  0.001007   \n",
       "558 -0.036223 -0.040941  0.029683 -0.019874  0.040049  0.036451  0.001065   \n",
       "\n",
       "            7         8         9  ...  Location_Poblenou  \\\n",
       "818 -0.132238  0.028664 -0.065480  ...              False   \n",
       "558 -0.085019  0.009831 -0.058453  ...              False   \n",
       "\n",
       "     Location_Provençals del Poblenou  Location_Sagrada Família  \\\n",
       "818                             False                     False   \n",
       "558                             False                     False   \n",
       "\n",
       "     Location_Sant Antoni  Type_DUPLEX  Type_FLAT  Type_GROUND_FLOOR  \\\n",
       "818                 False        False       True              False   \n",
       "558                 False        False       True              False   \n",
       "\n",
       "     Type_LOFT  Type_PENTHOUSE  Type_STUDIO  \n",
       "818      False           False        False  \n",
       "558      False           False        False  \n",
       "\n",
       "[2 rows x 535 columns]"
      ]
     },
     "execution_count": 30,
     "metadata": {},
     "output_type": "execute_result"
    }
   ],
   "source": [
    "X_train.head(2)"
   ]
  },
  {
   "cell_type": "markdown",
   "id": "d90f3362",
   "metadata": {},
   "source": [
    "# Find the Best Parameters "
   ]
  },
  {
   "cell_type": "code",
   "execution_count": 31,
   "id": "60f9a958",
   "metadata": {},
   "outputs": [
    {
     "name": "stderr",
     "output_type": "stream",
     "text": [
      "/Users/tingpan/anaconda3/envs/DistributedComputing/lib/python3.11/site-packages/joblib/externals/loky/process_executor.py:752: UserWarning: A worker stopped while some jobs were given to the executor. This can be caused by a too short worker timeout or by a memory leak.\n",
      "  warnings.warn(\n"
     ]
    },
    {
     "name": "stdout",
     "output_type": "stream",
     "text": [
      "Best Hyperparameters:  {'gamma': 0, 'learning_rate': 0.05, 'max_depth': 2, 'min_child_weight': 5, 'n_estimators': 400, 'reg_lambda': 0.05}\n"
     ]
    }
   ],
   "source": [
    "from sklearn.model_selection import GridSearchCV\n",
    "\n",
    "model = xgb.XGBRegressor()\n",
    "# Define the hyperparameters grid\n",
    "param_grid = {\n",
    "    'max_depth': [2, 3, 5],\n",
    "    'learning_rate': [0.01, 0.05,],\n",
    "    'n_estimators': [200, 400, 600],\n",
    "    'gamma': [0, 0.1],\n",
    "    'reg_lambda': [0.03, 0.05, 0.1],\n",
    "    'min_child_weight': [3, 5, 7, 10]\n",
    "}\n",
    "\n",
    "# Perform grid search cross-validation\n",
    "grid_search = GridSearchCV(estimator=model, param_grid=param_grid, cv=3, scoring='neg_mean_squared_error', n_jobs=-1)\n",
    "grid_result = grid_search.fit(X_train, y_train)\n",
    "\n",
    "print(\"Best Hyperparameters: \", grid_result.best_params_)"
   ]
  },
  {
   "cell_type": "markdown",
   "id": "687d9b9e",
   "metadata": {},
   "source": [
    "# Prediction"
   ]
  },
  {
   "cell_type": "code",
   "execution_count": 32,
   "id": "94c763f2",
   "metadata": {},
   "outputs": [
    {
     "name": "stdout",
     "output_type": "stream",
     "text": [
      "R2: 0.6018284028355665\n"
     ]
    }
   ],
   "source": [
    "# Extract the best parameters from grid search results\n",
    "best_params = grid_result.best_params_\n",
    "\n",
    "# Define the XGBoost model with the best hyperparameters\n",
    "best_model = xgb.XGBRegressor(**best_params)\n",
    "\n",
    "# Train the model with the best hyperparameters\n",
    "best_model.fit(X_train, y_train)\n",
    "\n",
    "# Make predictions with the trained model\n",
    "y_pred = best_model.predict(X_val)\n",
    "\n",
    "r2 = r2_score(y_val, y_pred)\n",
    "print(\"R2:\", r2)"
   ]
  },
  {
   "cell_type": "markdown",
   "id": "d017a5f9",
   "metadata": {},
   "source": [
    "# Random Forest"
   ]
  },
  {
   "cell_type": "code",
   "execution_count": 33,
   "id": "c8d8e666",
   "metadata": {},
   "outputs": [],
   "source": [
    "from sklearn.linear_model import Lasso\n",
    "from sklearn.ensemble import RandomForestRegressor\n",
    "from sklearn.model_selection import RandomizedSearchCV\n",
    "from sklearn.model_selection import KFold"
   ]
  },
  {
   "cell_type": "code",
   "execution_count": 41,
   "id": "31c3bb6c",
   "metadata": {},
   "outputs": [],
   "source": [
    "X_train.columns = X_train.columns.astype(str)\n",
    "X_val.columns = X_val.columns.astype(str)"
   ]
  },
  {
   "cell_type": "code",
   "execution_count": 37,
   "id": "57ff54dd",
   "metadata": {},
   "outputs": [
    {
     "data": {
      "text/html": [
       "<style>#sk-container-id-1 {\n",
       "  /* Definition of color scheme common for light and dark mode */\n",
       "  --sklearn-color-text: black;\n",
       "  --sklearn-color-line: gray;\n",
       "  /* Definition of color scheme for unfitted estimators */\n",
       "  --sklearn-color-unfitted-level-0: #fff5e6;\n",
       "  --sklearn-color-unfitted-level-1: #f6e4d2;\n",
       "  --sklearn-color-unfitted-level-2: #ffe0b3;\n",
       "  --sklearn-color-unfitted-level-3: chocolate;\n",
       "  /* Definition of color scheme for fitted estimators */\n",
       "  --sklearn-color-fitted-level-0: #f0f8ff;\n",
       "  --sklearn-color-fitted-level-1: #d4ebff;\n",
       "  --sklearn-color-fitted-level-2: #b3dbfd;\n",
       "  --sklearn-color-fitted-level-3: cornflowerblue;\n",
       "\n",
       "  /* Specific color for light theme */\n",
       "  --sklearn-color-text-on-default-background: var(--sg-text-color, var(--theme-code-foreground, var(--jp-content-font-color1, black)));\n",
       "  --sklearn-color-background: var(--sg-background-color, var(--theme-background, var(--jp-layout-color0, white)));\n",
       "  --sklearn-color-border-box: var(--sg-text-color, var(--theme-code-foreground, var(--jp-content-font-color1, black)));\n",
       "  --sklearn-color-icon: #696969;\n",
       "\n",
       "  @media (prefers-color-scheme: dark) {\n",
       "    /* Redefinition of color scheme for dark theme */\n",
       "    --sklearn-color-text-on-default-background: var(--sg-text-color, var(--theme-code-foreground, var(--jp-content-font-color1, white)));\n",
       "    --sklearn-color-background: var(--sg-background-color, var(--theme-background, var(--jp-layout-color0, #111)));\n",
       "    --sklearn-color-border-box: var(--sg-text-color, var(--theme-code-foreground, var(--jp-content-font-color1, white)));\n",
       "    --sklearn-color-icon: #878787;\n",
       "  }\n",
       "}\n",
       "\n",
       "#sk-container-id-1 {\n",
       "  color: var(--sklearn-color-text);\n",
       "}\n",
       "\n",
       "#sk-container-id-1 pre {\n",
       "  padding: 0;\n",
       "}\n",
       "\n",
       "#sk-container-id-1 input.sk-hidden--visually {\n",
       "  border: 0;\n",
       "  clip: rect(1px 1px 1px 1px);\n",
       "  clip: rect(1px, 1px, 1px, 1px);\n",
       "  height: 1px;\n",
       "  margin: -1px;\n",
       "  overflow: hidden;\n",
       "  padding: 0;\n",
       "  position: absolute;\n",
       "  width: 1px;\n",
       "}\n",
       "\n",
       "#sk-container-id-1 div.sk-dashed-wrapped {\n",
       "  border: 1px dashed var(--sklearn-color-line);\n",
       "  margin: 0 0.4em 0.5em 0.4em;\n",
       "  box-sizing: border-box;\n",
       "  padding-bottom: 0.4em;\n",
       "  background-color: var(--sklearn-color-background);\n",
       "}\n",
       "\n",
       "#sk-container-id-1 div.sk-container {\n",
       "  /* jupyter's `normalize.less` sets `[hidden] { display: none; }`\n",
       "     but bootstrap.min.css set `[hidden] { display: none !important; }`\n",
       "     so we also need the `!important` here to be able to override the\n",
       "     default hidden behavior on the sphinx rendered scikit-learn.org.\n",
       "     See: https://github.com/scikit-learn/scikit-learn/issues/21755 */\n",
       "  display: inline-block !important;\n",
       "  position: relative;\n",
       "}\n",
       "\n",
       "#sk-container-id-1 div.sk-text-repr-fallback {\n",
       "  display: none;\n",
       "}\n",
       "\n",
       "div.sk-parallel-item,\n",
       "div.sk-serial,\n",
       "div.sk-item {\n",
       "  /* draw centered vertical line to link estimators */\n",
       "  background-image: linear-gradient(var(--sklearn-color-text-on-default-background), var(--sklearn-color-text-on-default-background));\n",
       "  background-size: 2px 100%;\n",
       "  background-repeat: no-repeat;\n",
       "  background-position: center center;\n",
       "}\n",
       "\n",
       "/* Parallel-specific style estimator block */\n",
       "\n",
       "#sk-container-id-1 div.sk-parallel-item::after {\n",
       "  content: \"\";\n",
       "  width: 100%;\n",
       "  border-bottom: 2px solid var(--sklearn-color-text-on-default-background);\n",
       "  flex-grow: 1;\n",
       "}\n",
       "\n",
       "#sk-container-id-1 div.sk-parallel {\n",
       "  display: flex;\n",
       "  align-items: stretch;\n",
       "  justify-content: center;\n",
       "  background-color: var(--sklearn-color-background);\n",
       "  position: relative;\n",
       "}\n",
       "\n",
       "#sk-container-id-1 div.sk-parallel-item {\n",
       "  display: flex;\n",
       "  flex-direction: column;\n",
       "}\n",
       "\n",
       "#sk-container-id-1 div.sk-parallel-item:first-child::after {\n",
       "  align-self: flex-end;\n",
       "  width: 50%;\n",
       "}\n",
       "\n",
       "#sk-container-id-1 div.sk-parallel-item:last-child::after {\n",
       "  align-self: flex-start;\n",
       "  width: 50%;\n",
       "}\n",
       "\n",
       "#sk-container-id-1 div.sk-parallel-item:only-child::after {\n",
       "  width: 0;\n",
       "}\n",
       "\n",
       "/* Serial-specific style estimator block */\n",
       "\n",
       "#sk-container-id-1 div.sk-serial {\n",
       "  display: flex;\n",
       "  flex-direction: column;\n",
       "  align-items: center;\n",
       "  background-color: var(--sklearn-color-background);\n",
       "  padding-right: 1em;\n",
       "  padding-left: 1em;\n",
       "}\n",
       "\n",
       "\n",
       "/* Toggleable style: style used for estimator/Pipeline/ColumnTransformer box that is\n",
       "clickable and can be expanded/collapsed.\n",
       "- Pipeline and ColumnTransformer use this feature and define the default style\n",
       "- Estimators will overwrite some part of the style using the `sk-estimator` class\n",
       "*/\n",
       "\n",
       "/* Pipeline and ColumnTransformer style (default) */\n",
       "\n",
       "#sk-container-id-1 div.sk-toggleable {\n",
       "  /* Default theme specific background. It is overwritten whether we have a\n",
       "  specific estimator or a Pipeline/ColumnTransformer */\n",
       "  background-color: var(--sklearn-color-background);\n",
       "}\n",
       "\n",
       "/* Toggleable label */\n",
       "#sk-container-id-1 label.sk-toggleable__label {\n",
       "  cursor: pointer;\n",
       "  display: block;\n",
       "  width: 100%;\n",
       "  margin-bottom: 0;\n",
       "  padding: 0.5em;\n",
       "  box-sizing: border-box;\n",
       "  text-align: center;\n",
       "}\n",
       "\n",
       "#sk-container-id-1 label.sk-toggleable__label-arrow:before {\n",
       "  /* Arrow on the left of the label */\n",
       "  content: \"▸\";\n",
       "  float: left;\n",
       "  margin-right: 0.25em;\n",
       "  color: var(--sklearn-color-icon);\n",
       "}\n",
       "\n",
       "#sk-container-id-1 label.sk-toggleable__label-arrow:hover:before {\n",
       "  color: var(--sklearn-color-text);\n",
       "}\n",
       "\n",
       "/* Toggleable content - dropdown */\n",
       "\n",
       "#sk-container-id-1 div.sk-toggleable__content {\n",
       "  max-height: 0;\n",
       "  max-width: 0;\n",
       "  overflow: hidden;\n",
       "  text-align: left;\n",
       "  /* unfitted */\n",
       "  background-color: var(--sklearn-color-unfitted-level-0);\n",
       "}\n",
       "\n",
       "#sk-container-id-1 div.sk-toggleable__content.fitted {\n",
       "  /* fitted */\n",
       "  background-color: var(--sklearn-color-fitted-level-0);\n",
       "}\n",
       "\n",
       "#sk-container-id-1 div.sk-toggleable__content pre {\n",
       "  margin: 0.2em;\n",
       "  border-radius: 0.25em;\n",
       "  color: var(--sklearn-color-text);\n",
       "  /* unfitted */\n",
       "  background-color: var(--sklearn-color-unfitted-level-0);\n",
       "}\n",
       "\n",
       "#sk-container-id-1 div.sk-toggleable__content.fitted pre {\n",
       "  /* unfitted */\n",
       "  background-color: var(--sklearn-color-fitted-level-0);\n",
       "}\n",
       "\n",
       "#sk-container-id-1 input.sk-toggleable__control:checked~div.sk-toggleable__content {\n",
       "  /* Expand drop-down */\n",
       "  max-height: 200px;\n",
       "  max-width: 100%;\n",
       "  overflow: auto;\n",
       "}\n",
       "\n",
       "#sk-container-id-1 input.sk-toggleable__control:checked~label.sk-toggleable__label-arrow:before {\n",
       "  content: \"▾\";\n",
       "}\n",
       "\n",
       "/* Pipeline/ColumnTransformer-specific style */\n",
       "\n",
       "#sk-container-id-1 div.sk-label input.sk-toggleable__control:checked~label.sk-toggleable__label {\n",
       "  color: var(--sklearn-color-text);\n",
       "  background-color: var(--sklearn-color-unfitted-level-2);\n",
       "}\n",
       "\n",
       "#sk-container-id-1 div.sk-label.fitted input.sk-toggleable__control:checked~label.sk-toggleable__label {\n",
       "  background-color: var(--sklearn-color-fitted-level-2);\n",
       "}\n",
       "\n",
       "/* Estimator-specific style */\n",
       "\n",
       "/* Colorize estimator box */\n",
       "#sk-container-id-1 div.sk-estimator input.sk-toggleable__control:checked~label.sk-toggleable__label {\n",
       "  /* unfitted */\n",
       "  background-color: var(--sklearn-color-unfitted-level-2);\n",
       "}\n",
       "\n",
       "#sk-container-id-1 div.sk-estimator.fitted input.sk-toggleable__control:checked~label.sk-toggleable__label {\n",
       "  /* fitted */\n",
       "  background-color: var(--sklearn-color-fitted-level-2);\n",
       "}\n",
       "\n",
       "#sk-container-id-1 div.sk-label label.sk-toggleable__label,\n",
       "#sk-container-id-1 div.sk-label label {\n",
       "  /* The background is the default theme color */\n",
       "  color: var(--sklearn-color-text-on-default-background);\n",
       "}\n",
       "\n",
       "/* On hover, darken the color of the background */\n",
       "#sk-container-id-1 div.sk-label:hover label.sk-toggleable__label {\n",
       "  color: var(--sklearn-color-text);\n",
       "  background-color: var(--sklearn-color-unfitted-level-2);\n",
       "}\n",
       "\n",
       "/* Label box, darken color on hover, fitted */\n",
       "#sk-container-id-1 div.sk-label.fitted:hover label.sk-toggleable__label.fitted {\n",
       "  color: var(--sklearn-color-text);\n",
       "  background-color: var(--sklearn-color-fitted-level-2);\n",
       "}\n",
       "\n",
       "/* Estimator label */\n",
       "\n",
       "#sk-container-id-1 div.sk-label label {\n",
       "  font-family: monospace;\n",
       "  font-weight: bold;\n",
       "  display: inline-block;\n",
       "  line-height: 1.2em;\n",
       "}\n",
       "\n",
       "#sk-container-id-1 div.sk-label-container {\n",
       "  text-align: center;\n",
       "}\n",
       "\n",
       "/* Estimator-specific */\n",
       "#sk-container-id-1 div.sk-estimator {\n",
       "  font-family: monospace;\n",
       "  border: 1px dotted var(--sklearn-color-border-box);\n",
       "  border-radius: 0.25em;\n",
       "  box-sizing: border-box;\n",
       "  margin-bottom: 0.5em;\n",
       "  /* unfitted */\n",
       "  background-color: var(--sklearn-color-unfitted-level-0);\n",
       "}\n",
       "\n",
       "#sk-container-id-1 div.sk-estimator.fitted {\n",
       "  /* fitted */\n",
       "  background-color: var(--sklearn-color-fitted-level-0);\n",
       "}\n",
       "\n",
       "/* on hover */\n",
       "#sk-container-id-1 div.sk-estimator:hover {\n",
       "  /* unfitted */\n",
       "  background-color: var(--sklearn-color-unfitted-level-2);\n",
       "}\n",
       "\n",
       "#sk-container-id-1 div.sk-estimator.fitted:hover {\n",
       "  /* fitted */\n",
       "  background-color: var(--sklearn-color-fitted-level-2);\n",
       "}\n",
       "\n",
       "/* Specification for estimator info (e.g. \"i\" and \"?\") */\n",
       "\n",
       "/* Common style for \"i\" and \"?\" */\n",
       "\n",
       ".sk-estimator-doc-link,\n",
       "a:link.sk-estimator-doc-link,\n",
       "a:visited.sk-estimator-doc-link {\n",
       "  float: right;\n",
       "  font-size: smaller;\n",
       "  line-height: 1em;\n",
       "  font-family: monospace;\n",
       "  background-color: var(--sklearn-color-background);\n",
       "  border-radius: 1em;\n",
       "  height: 1em;\n",
       "  width: 1em;\n",
       "  text-decoration: none !important;\n",
       "  margin-left: 1ex;\n",
       "  /* unfitted */\n",
       "  border: var(--sklearn-color-unfitted-level-1) 1pt solid;\n",
       "  color: var(--sklearn-color-unfitted-level-1);\n",
       "}\n",
       "\n",
       ".sk-estimator-doc-link.fitted,\n",
       "a:link.sk-estimator-doc-link.fitted,\n",
       "a:visited.sk-estimator-doc-link.fitted {\n",
       "  /* fitted */\n",
       "  border: var(--sklearn-color-fitted-level-1) 1pt solid;\n",
       "  color: var(--sklearn-color-fitted-level-1);\n",
       "}\n",
       "\n",
       "/* On hover */\n",
       "div.sk-estimator:hover .sk-estimator-doc-link:hover,\n",
       ".sk-estimator-doc-link:hover,\n",
       "div.sk-label-container:hover .sk-estimator-doc-link:hover,\n",
       ".sk-estimator-doc-link:hover {\n",
       "  /* unfitted */\n",
       "  background-color: var(--sklearn-color-unfitted-level-3);\n",
       "  color: var(--sklearn-color-background);\n",
       "  text-decoration: none;\n",
       "}\n",
       "\n",
       "div.sk-estimator.fitted:hover .sk-estimator-doc-link.fitted:hover,\n",
       ".sk-estimator-doc-link.fitted:hover,\n",
       "div.sk-label-container:hover .sk-estimator-doc-link.fitted:hover,\n",
       ".sk-estimator-doc-link.fitted:hover {\n",
       "  /* fitted */\n",
       "  background-color: var(--sklearn-color-fitted-level-3);\n",
       "  color: var(--sklearn-color-background);\n",
       "  text-decoration: none;\n",
       "}\n",
       "\n",
       "/* Span, style for the box shown on hovering the info icon */\n",
       ".sk-estimator-doc-link span {\n",
       "  display: none;\n",
       "  z-index: 9999;\n",
       "  position: relative;\n",
       "  font-weight: normal;\n",
       "  right: .2ex;\n",
       "  padding: .5ex;\n",
       "  margin: .5ex;\n",
       "  width: min-content;\n",
       "  min-width: 20ex;\n",
       "  max-width: 50ex;\n",
       "  color: var(--sklearn-color-text);\n",
       "  box-shadow: 2pt 2pt 4pt #999;\n",
       "  /* unfitted */\n",
       "  background: var(--sklearn-color-unfitted-level-0);\n",
       "  border: .5pt solid var(--sklearn-color-unfitted-level-3);\n",
       "}\n",
       "\n",
       ".sk-estimator-doc-link.fitted span {\n",
       "  /* fitted */\n",
       "  background: var(--sklearn-color-fitted-level-0);\n",
       "  border: var(--sklearn-color-fitted-level-3);\n",
       "}\n",
       "\n",
       ".sk-estimator-doc-link:hover span {\n",
       "  display: block;\n",
       "}\n",
       "\n",
       "/* \"?\"-specific style due to the `<a>` HTML tag */\n",
       "\n",
       "#sk-container-id-1 a.estimator_doc_link {\n",
       "  float: right;\n",
       "  font-size: 1rem;\n",
       "  line-height: 1em;\n",
       "  font-family: monospace;\n",
       "  background-color: var(--sklearn-color-background);\n",
       "  border-radius: 1rem;\n",
       "  height: 1rem;\n",
       "  width: 1rem;\n",
       "  text-decoration: none;\n",
       "  /* unfitted */\n",
       "  color: var(--sklearn-color-unfitted-level-1);\n",
       "  border: var(--sklearn-color-unfitted-level-1) 1pt solid;\n",
       "}\n",
       "\n",
       "#sk-container-id-1 a.estimator_doc_link.fitted {\n",
       "  /* fitted */\n",
       "  border: var(--sklearn-color-fitted-level-1) 1pt solid;\n",
       "  color: var(--sklearn-color-fitted-level-1);\n",
       "}\n",
       "\n",
       "/* On hover */\n",
       "#sk-container-id-1 a.estimator_doc_link:hover {\n",
       "  /* unfitted */\n",
       "  background-color: var(--sklearn-color-unfitted-level-3);\n",
       "  color: var(--sklearn-color-background);\n",
       "  text-decoration: none;\n",
       "}\n",
       "\n",
       "#sk-container-id-1 a.estimator_doc_link.fitted:hover {\n",
       "  /* fitted */\n",
       "  background-color: var(--sklearn-color-fitted-level-3);\n",
       "}\n",
       "</style><div id=\"sk-container-id-1\" class=\"sk-top-container\"><div class=\"sk-text-repr-fallback\"><pre>RandomizedSearchCV(cv=KFold(n_splits=5, random_state=13, shuffle=True),\n",
       "                   estimator=RandomForestRegressor(), n_iter=1000, n_jobs=-1,\n",
       "                   param_distributions={&#x27;max_depth&#x27;: array([ 7,  8,  9, 10, 11, 12, 13, 14, 15, 16, 17, 18, 19]),\n",
       "                                        &#x27;max_features&#x27;: array([0.1, 0.2, 0.3, 0.4, 0.5, 0.6, 0.7, 0.8]),\n",
       "                                        &#x27;min_samples_leaf&#x27;: array([ 1,  2,  3,  4,  5,  6,  7,  8,  9, 10, 11, 12, 13, 14])},\n",
       "                   random_state=13)</pre><b>In a Jupyter environment, please rerun this cell to show the HTML representation or trust the notebook. <br />On GitHub, the HTML representation is unable to render, please try loading this page with nbviewer.org.</b></div><div class=\"sk-container\" hidden><div class=\"sk-item sk-dashed-wrapped\"><div class=\"sk-label-container\"><div class=\"sk-label fitted sk-toggleable\"><input class=\"sk-toggleable__control sk-hidden--visually\" id=\"sk-estimator-id-1\" type=\"checkbox\" ><label for=\"sk-estimator-id-1\" class=\"sk-toggleable__label fitted sk-toggleable__label-arrow fitted\">&nbsp;&nbsp;RandomizedSearchCV<a class=\"sk-estimator-doc-link fitted\" rel=\"noreferrer\" target=\"_blank\" href=\"https://scikit-learn.org/1.4/modules/generated/sklearn.model_selection.RandomizedSearchCV.html\">?<span>Documentation for RandomizedSearchCV</span></a><span class=\"sk-estimator-doc-link fitted\">i<span>Fitted</span></span></label><div class=\"sk-toggleable__content fitted\"><pre>RandomizedSearchCV(cv=KFold(n_splits=5, random_state=13, shuffle=True),\n",
       "                   estimator=RandomForestRegressor(), n_iter=1000, n_jobs=-1,\n",
       "                   param_distributions={&#x27;max_depth&#x27;: array([ 7,  8,  9, 10, 11, 12, 13, 14, 15, 16, 17, 18, 19]),\n",
       "                                        &#x27;max_features&#x27;: array([0.1, 0.2, 0.3, 0.4, 0.5, 0.6, 0.7, 0.8]),\n",
       "                                        &#x27;min_samples_leaf&#x27;: array([ 1,  2,  3,  4,  5,  6,  7,  8,  9, 10, 11, 12, 13, 14])},\n",
       "                   random_state=13)</pre></div> </div></div><div class=\"sk-parallel\"><div class=\"sk-parallel-item\"><div class=\"sk-item\"><div class=\"sk-label-container\"><div class=\"sk-label fitted sk-toggleable\"><input class=\"sk-toggleable__control sk-hidden--visually\" id=\"sk-estimator-id-2\" type=\"checkbox\" ><label for=\"sk-estimator-id-2\" class=\"sk-toggleable__label fitted sk-toggleable__label-arrow fitted\">estimator: RandomForestRegressor</label><div class=\"sk-toggleable__content fitted\"><pre>RandomForestRegressor()</pre></div> </div></div><div class=\"sk-serial\"><div class=\"sk-item\"><div class=\"sk-estimator fitted sk-toggleable\"><input class=\"sk-toggleable__control sk-hidden--visually\" id=\"sk-estimator-id-3\" type=\"checkbox\" ><label for=\"sk-estimator-id-3\" class=\"sk-toggleable__label fitted sk-toggleable__label-arrow fitted\">&nbsp;RandomForestRegressor<a class=\"sk-estimator-doc-link fitted\" rel=\"noreferrer\" target=\"_blank\" href=\"https://scikit-learn.org/1.4/modules/generated/sklearn.ensemble.RandomForestRegressor.html\">?<span>Documentation for RandomForestRegressor</span></a></label><div class=\"sk-toggleable__content fitted\"><pre>RandomForestRegressor()</pre></div> </div></div></div></div></div></div></div></div></div>"
      ],
      "text/plain": [
       "RandomizedSearchCV(cv=KFold(n_splits=5, random_state=13, shuffle=True),\n",
       "                   estimator=RandomForestRegressor(), n_iter=1000, n_jobs=-1,\n",
       "                   param_distributions={'max_depth': array([ 7,  8,  9, 10, 11, 12, 13, 14, 15, 16, 17, 18, 19]),\n",
       "                                        'max_features': array([0.1, 0.2, 0.3, 0.4, 0.5, 0.6, 0.7, 0.8]),\n",
       "                                        'min_samples_leaf': array([ 1,  2,  3,  4,  5,  6,  7,  8,  9, 10, 11, 12, 13, 14])},\n",
       "                   random_state=13)"
      ]
     },
     "execution_count": 37,
     "metadata": {},
     "output_type": "execute_result"
    }
   ],
   "source": [
    "param_dist = {\n",
    "    'min_samples_leaf': np.arange(1, 15),\n",
    "    'max_features': np.linspace(0.1, 0.8, 8),\n",
    "    'max_depth': np.arange(7, 20)\n",
    "}\n",
    "\n",
    "cv = KFold(n_splits = 5, random_state = 13, shuffle = True)\n",
    "rf = RandomForestRegressor(n_estimators=100)\n",
    "\n",
    "random_search = RandomizedSearchCV(rf, param_distributions=param_dist, n_iter=1000, cv=cv, n_jobs=-1,random_state = 13)\n",
    "random_search.fit(X_train, y_train)"
   ]
  },
  {
   "cell_type": "code",
   "execution_count": 38,
   "id": "ff179872",
   "metadata": {},
   "outputs": [
    {
     "name": "stdout",
     "output_type": "stream",
     "text": [
      "Best Parameters: {'min_samples_leaf': 4, 'max_features': 0.7000000000000001, 'max_depth': 17}\n",
      "R^2 score 0.4689619832344308\n"
     ]
    }
   ],
   "source": [
    "print(\"Best Parameters:\", random_search.best_params_)\n",
    "print(\"R^2 score\",random_search.best_score_ )"
   ]
  },
  {
   "cell_type": "code",
   "execution_count": 42,
   "id": "772d5e62",
   "metadata": {},
   "outputs": [
    {
     "name": "stdout",
     "output_type": "stream",
     "text": [
      "R2: 0.5500552068068321\n"
     ]
    }
   ],
   "source": [
    "best_rf = RandomForestRegressor(**random_search.best_params_)\n",
    "best_rf.fit(X_train, y_train)\n",
    "y_pred = best_rf.predict(X_val)\n",
    "r2 = r2_score(y_val, y_pred)\n",
    "print(\"R2:\", r2)"
   ]
  },
  {
   "cell_type": "markdown",
   "id": "d69dddbb",
   "metadata": {},
   "source": [
    "# Test Data"
   ]
  },
  {
   "cell_type": "code",
   "execution_count": 127,
   "id": "ea6d6c6b",
   "metadata": {},
   "outputs": [
    {
     "data": {
      "text/plain": [
       "(132, 512)"
      ]
     },
     "execution_count": 127,
     "metadata": {},
     "output_type": "execute_result"
    }
   ],
   "source": [
    "title_test_embedded = np.vstack([get_sentence_encoding(x.strip()) for x in title_test])\n",
    "title_test_embedded.shape"
   ]
  },
  {
   "cell_type": "code",
   "execution_count": 133,
   "id": "74f9a46e",
   "metadata": {},
   "outputs": [
    {
     "data": {
      "text/plain": [
       "(132, 512)"
      ]
     },
     "execution_count": 133,
     "metadata": {},
     "output_type": "execute_result"
    }
   ],
   "source": [
    "desc_test_embedded = np.vstack([get_sentence_encoding(x.strip()) for x in desc_test])\n",
    "desc_test_embedded.shape"
   ]
  },
  {
   "cell_type": "code",
   "execution_count": 129,
   "id": "9908396a",
   "metadata": {},
   "outputs": [],
   "source": [
    "df_desc_test= pd.DataFrame(desc_test_embedded)\n",
    "df_title_test = pd.DataFrame(title_test_embedded)"
   ]
  },
  {
   "cell_type": "code",
   "execution_count": 141,
   "id": "72c22d4d",
   "metadata": {},
   "outputs": [
    {
     "data": {
      "text/plain": [
       "(132, 15)"
      ]
     },
     "execution_count": 141,
     "metadata": {},
     "output_type": "execute_result"
    }
   ],
   "source": [
    "test_encoded = pd.get_dummies(test_clean, columns=['Location', 'Type'], drop_first=True)\n",
    "test_encoded.shape"
   ]
  },
  {
   "cell_type": "code",
   "execution_count": 152,
   "id": "5d477471",
   "metadata": {},
   "outputs": [
    {
     "data": {
      "text/plain": [
       "((866, 23), (866, 24))"
      ]
     },
     "execution_count": 152,
     "metadata": {},
     "output_type": "execute_result"
    }
   ],
   "source": [
    "encoded = train_encoded.drop(['Price'], axis=1)\n",
    "encoded.shape,train_encoded.shape"
   ]
  },
  {
   "cell_type": "code",
   "execution_count": 153,
   "id": "8daaa998",
   "metadata": {},
   "outputs": [
    {
     "data": {
      "text/plain": [
       "((132, 23), (866, 23))"
      ]
     },
     "execution_count": 153,
     "metadata": {},
     "output_type": "execute_result"
    }
   ],
   "source": [
    "# Add missing columns to test_encoded and fill them with zeros\n",
    "columns_to_add = encoded.columns.difference(test_encoded.columns)\n",
    "for column in columns_to_add:\n",
    "    test_encoded[column] = 0\n",
    "# Reorder the columns in test_encoded to match the order of columns in X\n",
    "test_encoded = test_encoded[encoded.columns]\n",
    "test_encoded.shape, encoded.shape"
   ]
  },
  {
   "cell_type": "code",
   "execution_count": 154,
   "id": "293ae80a",
   "metadata": {},
   "outputs": [
    {
     "data": {
      "text/plain": [
       "((132, 535), (692, 535))"
      ]
     },
     "execution_count": 154,
     "metadata": {},
     "output_type": "execute_result"
    }
   ],
   "source": [
    "test = pd.concat([df_desc_test, test_encoded], axis=1)\n",
    "test.shape, X_train.shape"
   ]
  },
  {
   "cell_type": "markdown",
   "id": "7f767e23",
   "metadata": {},
   "source": [
    "Prediction"
   ]
  },
  {
   "cell_type": "code",
   "execution_count": 159,
   "id": "c8713824",
   "metadata": {},
   "outputs": [],
   "source": [
    "best_model.fit(X, y)\n",
    "y_pred = best_model.predict(test)"
   ]
  },
  {
   "cell_type": "code",
   "execution_count": 160,
   "id": "f70a7aff",
   "metadata": {},
   "outputs": [
    {
     "data": {
      "text/plain": [
       "(132, 1)"
      ]
     },
     "execution_count": 160,
     "metadata": {},
     "output_type": "execute_result"
    }
   ],
   "source": [
    "df = pd.DataFrame({'price': y_pred})\n",
    "df['id'] = range(len(df))\n",
    "df.set_index('id', inplace=True)\n",
    "df.shape"
   ]
  },
  {
   "cell_type": "code",
   "execution_count": 161,
   "id": "6c0c2b44",
   "metadata": {},
   "outputs": [],
   "source": [
    "df.to_csv('submission.csv')"
   ]
  }
 ],
 "metadata": {
  "kernelspec": {
   "display_name": "Python 3 (ipykernel)",
   "language": "python",
   "name": "python3"
  },
  "language_info": {
   "codemirror_mode": {
    "name": "ipython",
    "version": 3
   },
   "file_extension": ".py",
   "mimetype": "text/x-python",
   "name": "python",
   "nbconvert_exporter": "python",
   "pygments_lexer": "ipython3",
   "version": "3.11.5"
  }
 },
 "nbformat": 4,
 "nbformat_minor": 5
}
